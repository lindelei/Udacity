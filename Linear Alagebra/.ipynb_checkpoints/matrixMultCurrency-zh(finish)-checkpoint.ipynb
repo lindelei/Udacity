{
 "cells": [
  {
   "cell_type": "markdown",
   "metadata": {},
   "source": [
    "# 通过矩阵乘法进行货币换算 \n",
    "\n",
    "在此 notebook 中，你将使用矩阵乘法和 python 软件包 [NumPy](http://www.numpy.org/) 解决一个货币换算问题。此演示旨在帮助你学习如何使用矩阵乘法解决更复杂的问题。\n",
    "\n",
    "## 货币换算问题 \n",
    "\n",
    "这么多年来，你一共去过八个不同的国家/地区，并且留下了一些当地的货币。你打算再回到这八个国家/地区中的某个国家/地区，但是不确定要回到哪个国家/地区。\n",
    "你打算看看哪个航线的机票最便宜。\n",
    "\n",
    "为了做好行程准备，你需要将你的*所有*当地货币转换为你打算前往的国家/地区的货币。\n",
    "因此，要仔细检查银行对你的货币换算结果，你想要计算八个国家/地区的每个国家/地区的总货币金额。\n",
    "要计算换算结果，你首先需要导入包含每个国家/地区的货币换算率的矩阵。我们将使用的数据来自 [Overview Matrix of Exchange Rates from Bloomberg Cross-Rates _Overall Chart_](https://www.bloomberg.com/markets/currencies/cross-rates)（2018 年 1 月 10 日）。 \n",
    "\n",
    "<img src=\"currencyProbImage.png\" height=300 width=750>\n",
    "\n",
    "\n",
    "你可以将此问题看做接受一个_**输入**向量_（来自 8 个国家/地区的货币），并向这些输入应用 _**权重**矩阵_（换算率矩阵），以使用矩阵乘法和 NumPy 软件包生成 _**输出**向量_（每个国家/地区的货币总金额）。\n",
    "\n",
    "### 编写货币换算问题代码 \n",
    "首先，你需要创建_**输入**向量_来存储表示八个国家/地区货币的 numpy 向量。首先导入 NumPy 软件包，然后使用该软件包根据列表创建向量。接着，将该向量转换为 pandas dataframe，以便在下面整洁地输出列标签，表示与货币金额相关的国家/地区。"
   ]
  },
  {
   "cell_type": "code",
   "execution_count": 1,
   "metadata": {},
   "outputs": [
    {
     "name": "stdout",
     "output_type": "stream",
     "text": [
      "Inputs Vector:\n"
     ]
    },
    {
     "data": {
      "text/html": [
       "<div>\n",
       "<style scoped>\n",
       "    .dataframe tbody tr th:only-of-type {\n",
       "        vertical-align: middle;\n",
       "    }\n",
       "\n",
       "    .dataframe tbody tr th {\n",
       "        vertical-align: top;\n",
       "    }\n",
       "\n",
       "    .dataframe thead th {\n",
       "        text-align: right;\n",
       "    }\n",
       "</style>\n",
       "<table border=\"1\" class=\"dataframe\">\n",
       "  <thead>\n",
       "    <tr style=\"text-align: right;\">\n",
       "      <th></th>\n",
       "      <th>USD</th>\n",
       "      <th>EUR</th>\n",
       "      <th>JPY</th>\n",
       "      <th>GBP</th>\n",
       "      <th>CHF</th>\n",
       "      <th>CAD</th>\n",
       "      <th>AUD</th>\n",
       "      <th>HKD</th>\n",
       "    </tr>\n",
       "  </thead>\n",
       "  <tbody>\n",
       "    <tr>\n",
       "      <th>Amounts</th>\n",
       "      <td>70</td>\n",
       "      <td>100</td>\n",
       "      <td>20</td>\n",
       "      <td>80</td>\n",
       "      <td>40</td>\n",
       "      <td>70</td>\n",
       "      <td>60</td>\n",
       "      <td>100</td>\n",
       "    </tr>\n",
       "  </tbody>\n",
       "</table>\n",
       "</div>"
      ],
      "text/plain": [
       "         USD  EUR  JPY  GBP  CHF  CAD  AUD  HKD\n",
       "Amounts   70  100   20   80   40   70   60  100"
      ]
     },
     "execution_count": 1,
     "metadata": {},
     "output_type": "execute_result"
    }
   ],
   "source": [
    "import numpy as np\n",
    "import pandas as pd\n",
    "\n",
    "# Creates numpy vector from a list to represent money (inputs) vector.\n",
    "money = np.asarray([70, 100, 20, 80, 40, 70, 60, 100])\n",
    "\n",
    "# Creates pandas dataframe with column labels(currency_label) from the numpy vector for printing.\n",
    "currency_label = [\"USD\", \"EUR\", \"JPY\", \"GBP\", \"CHF\", \"CAD\", \"AUD\", \"HKD\"]\n",
    "money_df = pd.DataFrame(data=money, index=currency_label, columns=[\"Amounts\"])\n",
    "print(\"Inputs Vector:\")\n",
    "money_df.T\n"
   ]
  },
  {
   "cell_type": "markdown",
   "metadata": {},
   "source": [
    "<div>\n",
    "<style>\n",
    "    .dataframe thead tr:only-child th {\n",
    "        text-align: right;\n",
    "    }"
   ]
  },
  {
   "cell_type": "markdown",
   "metadata": {},
   "source": [
    "接着，我们需要通过导入货币换算率矩阵创建_**权重**矩阵_。我们将使用  python 软件包 [Pandas](https://pandas.pydata.org/) 快速读取该矩阵并相应地分配行和列标签。此外，我们定义一个变量 **_path_** 来定义货币换算矩阵的位置。下面的代码会导入该权重矩阵，将 DataFrame 转换为 numpy 矩阵，并显示其内容，以帮助你判断如何使用矩阵乘法解决该问题。"
   ]
  },
  {
   "cell_type": "code",
   "execution_count": 2,
   "metadata": {},
   "outputs": [
    {
     "name": "stdout",
     "output_type": "stream",
     "text": [
      "Weights Matrix:\n"
     ]
    },
    {
     "data": {
      "text/html": [
       "<div>\n",
       "<style scoped>\n",
       "    .dataframe tbody tr th:only-of-type {\n",
       "        vertical-align: middle;\n",
       "    }\n",
       "\n",
       "    .dataframe tbody tr th {\n",
       "        vertical-align: top;\n",
       "    }\n",
       "\n",
       "    .dataframe thead th {\n",
       "        text-align: right;\n",
       "    }\n",
       "</style>\n",
       "<table border=\"1\" class=\"dataframe\">\n",
       "  <thead>\n",
       "    <tr style=\"text-align: right;\">\n",
       "      <th></th>\n",
       "      <th>USD</th>\n",
       "      <th>EUR</th>\n",
       "      <th>JPY</th>\n",
       "      <th>GBP</th>\n",
       "      <th>CHF</th>\n",
       "      <th>CAD</th>\n",
       "      <th>AUD</th>\n",
       "      <th>HKD</th>\n",
       "    </tr>\n",
       "  </thead>\n",
       "  <tbody>\n",
       "    <tr>\n",
       "      <th>USD-To</th>\n",
       "      <td>1.0000</td>\n",
       "      <td>0.8364</td>\n",
       "      <td>111.3700</td>\n",
       "      <td>0.7404</td>\n",
       "      <td>0.9781</td>\n",
       "      <td>1.2548</td>\n",
       "      <td>1.2760</td>\n",
       "      <td>7.8218</td>\n",
       "    </tr>\n",
       "    <tr>\n",
       "      <th>EUR-To</th>\n",
       "      <td>1.1956</td>\n",
       "      <td>1.0000</td>\n",
       "      <td>133.1540</td>\n",
       "      <td>0.8852</td>\n",
       "      <td>1.1694</td>\n",
       "      <td>1.5002</td>\n",
       "      <td>1.5256</td>\n",
       "      <td>9.3517</td>\n",
       "    </tr>\n",
       "    <tr>\n",
       "      <th>JPY-To</th>\n",
       "      <td>0.0090</td>\n",
       "      <td>0.0075</td>\n",
       "      <td>1.0000</td>\n",
       "      <td>0.0066</td>\n",
       "      <td>0.0088</td>\n",
       "      <td>0.0113</td>\n",
       "      <td>0.0115</td>\n",
       "      <td>0.0702</td>\n",
       "    </tr>\n",
       "    <tr>\n",
       "      <th>GBP-To</th>\n",
       "      <td>1.3507</td>\n",
       "      <td>1.1297</td>\n",
       "      <td>150.4275</td>\n",
       "      <td>1.0000</td>\n",
       "      <td>1.3211</td>\n",
       "      <td>1.6949</td>\n",
       "      <td>1.7235</td>\n",
       "      <td>10.5649</td>\n",
       "    </tr>\n",
       "    <tr>\n",
       "      <th>CHF-To</th>\n",
       "      <td>1.0224</td>\n",
       "      <td>0.8551</td>\n",
       "      <td>113.8636</td>\n",
       "      <td>0.7569</td>\n",
       "      <td>1.0000</td>\n",
       "      <td>1.2829</td>\n",
       "      <td>1.3046</td>\n",
       "      <td>7.9969</td>\n",
       "    </tr>\n",
       "    <tr>\n",
       "      <th>CAD-To</th>\n",
       "      <td>0.7969</td>\n",
       "      <td>0.6666</td>\n",
       "      <td>88.7552</td>\n",
       "      <td>0.5900</td>\n",
       "      <td>0.7795</td>\n",
       "      <td>1.0000</td>\n",
       "      <td>1.0169</td>\n",
       "      <td>6.2335</td>\n",
       "    </tr>\n",
       "    <tr>\n",
       "      <th>AUD-To</th>\n",
       "      <td>0.7837</td>\n",
       "      <td>0.6555</td>\n",
       "      <td>87.2807</td>\n",
       "      <td>0.5802</td>\n",
       "      <td>0.7665</td>\n",
       "      <td>0.9834</td>\n",
       "      <td>1.0000</td>\n",
       "      <td>6.1299</td>\n",
       "    </tr>\n",
       "    <tr>\n",
       "      <th>HKD-To</th>\n",
       "      <td>0.1278</td>\n",
       "      <td>0.1069</td>\n",
       "      <td>14.2384</td>\n",
       "      <td>0.0947</td>\n",
       "      <td>0.1250</td>\n",
       "      <td>0.1604</td>\n",
       "      <td>0.1631</td>\n",
       "      <td>1.0000</td>\n",
       "    </tr>\n",
       "  </tbody>\n",
       "</table>\n",
       "</div>"
      ],
      "text/plain": [
       "           USD     EUR       JPY     GBP     CHF     CAD     AUD      HKD\n",
       "USD-To  1.0000  0.8364  111.3700  0.7404  0.9781  1.2548  1.2760   7.8218\n",
       "EUR-To  1.1956  1.0000  133.1540  0.8852  1.1694  1.5002  1.5256   9.3517\n",
       "JPY-To  0.0090  0.0075    1.0000  0.0066  0.0088  0.0113  0.0115   0.0702\n",
       "GBP-To  1.3507  1.1297  150.4275  1.0000  1.3211  1.6949  1.7235  10.5649\n",
       "CHF-To  1.0224  0.8551  113.8636  0.7569  1.0000  1.2829  1.3046   7.9969\n",
       "CAD-To  0.7969  0.6666   88.7552  0.5900  0.7795  1.0000  1.0169   6.2335\n",
       "AUD-To  0.7837  0.6555   87.2807  0.5802  0.7665  0.9834  1.0000   6.1299\n",
       "HKD-To  0.1278  0.1069   14.2384  0.0947  0.1250  0.1604  0.1631   1.0000"
      ]
     },
     "execution_count": 2,
     "metadata": {},
     "output_type": "execute_result"
    }
   ],
   "source": [
    "# Sets path variable to the 'path' of the CSV file that contains the conversion rates(weights) matrix.\n",
    "path = %pwd\n",
    "\n",
    "# Imports conversion rates(weights) matrix as a pandas dataframe.\n",
    "conversion_rates_df = pd.read_csv(path+\"/currencyConversionMatrix.csv\",header=0,index_col=0)\n",
    "\n",
    "# Creates numpy matrix from a pandas dataframe to create the conversion rates(weights) matrix.\n",
    "conversion_rates = conversion_rates_df.values\n",
    "\n",
    "# Prints conversion rates matrix.\n",
    "print(\"Weights Matrix:\")\n",
    "conversion_rates_df\n"
   ]
  },
  {
   "cell_type": "markdown",
   "metadata": {},
   "source": [
    "<div>\n",
    "<style>\n",
    "    .dataframe thead tr:only-child th {\n",
    "        text-align: right;\n",
    "    }"
   ]
  },
  {
   "cell_type": "markdown",
   "metadata": {},
   "source": [
    "上述_**权重**矩阵_提供了每个国家/地区之间的换算率。例如，在第 1 行第 1 列，值 **1.0000** 表示从美元到美元的换算率。在第 2 行第 1 列，值 **1.1956** 表示 1 欧元等于 **1.1956** 美元。在第 1 行第 2 列，值 **0.8364** 表示 1 美元仅等于  **0.8364** 欧元。\n",
    "\n",
    "下面使用矩阵乘法计算了_**输出**向量_。numpy 软件包提供了将两个矩阵相乘（或向量与矩阵相乘）的[函数 _**matmul**_](https://docs.scipy.org/doc/numpy-1.13.0/reference/generated/numpy.matmul.html)。你将在下面找到适用于 AI 的矩阵乘法方程，其中_**输入**向量_($x_{1}...x_{n}$) 乘以_**权重**矩阵_($w_{11}...w_{nm}$) 以计算_**输出**向量_($y_{1}...y_{m}$)。 \n",
    "\n",
    "$\\hspace{4cm} \\begin{bmatrix} x_{1}&x_{2}&...&x_{n}\\end{bmatrix} \\begin{bmatrix} w_{11}&w_{12}&...&w_{1m}\\\\ w_{21}&w_{22}&...&w_{2m}\\\\ ...&...&...&... \\\\ w_{n1}&w_{n2}&...&w_{nm}\\end{bmatrix} = \\begin{bmatrix} y_{1}&y_{2}&...&y_{m}\\end{bmatrix}$ \n",
    "\n",
    "下面的示例矩阵乘法在**输入**和**权重**中将 $n$ 设为 4，在**权重**和**输出**中将 $m$ 设为 3。\n",
    "\n",
    "$\\hspace{4cm} \\begin{bmatrix} 10 & 2 & 1 & 5\\end{bmatrix} \\begin{bmatrix} 1 & 20 & 7\\\\ 3 & 15 & 6 \\\\ 2 & 5 & 12 \\\\ 4 & 25 & 9 \\end{bmatrix} = \\begin{bmatrix} 38 & 360 & 139 \\end{bmatrix}$ \n",
    "\n",
    "从上述示例可以看出，矩阵乘法生成的矩阵（_**输出**向量_）的行维度与第一个矩阵（_**输入**向量_）的一样，列维度将与第二个矩阵（_**权重**矩阵_）的一样。对于货币示例来说，输入矩阵和权重矩阵的列数一样，但是 AI 并非始终都如此。\n",
    "\n",
    "## TODO：矩阵乘法\n",
    "在下面的空白处使用[函数 _**matmul**_](https://docs.scipy.org/doc/numpy-1.13.0/reference/generated/numpy.matmul.html) 将 **money** 和 **conversion_rates** 相乘，以计算向量 **money_totals**。之前我们在导入上述 Numpy 软件包时，使用了别名 _**np**_，因此在下面调用 _**matmul**_ 函数时，确保使用别名 _**np**_。此外，确保选择_“单元格”_ 和_“运行所有”_以检查你在下面插入的代码。"
   ]
  },
  {
   "cell_type": "code",
   "execution_count": 5,
   "metadata": {},
   "outputs": [
    {
     "name": "stdout",
     "output_type": "stream",
     "text": [
      "Outputs Vector:\n"
     ]
    },
    {
     "data": {
      "text/html": [
       "<div>\n",
       "<style scoped>\n",
       "    .dataframe tbody tr th:only-of-type {\n",
       "        vertical-align: middle;\n",
       "    }\n",
       "\n",
       "    .dataframe tbody tr th {\n",
       "        vertical-align: top;\n",
       "    }\n",
       "\n",
       "    .dataframe thead th {\n",
       "        text-align: right;\n",
       "    }\n",
       "</style>\n",
       "<table border=\"1\" class=\"dataframe\">\n",
       "  <thead>\n",
       "    <tr style=\"text-align: right;\">\n",
       "      <th></th>\n",
       "      <th>USD</th>\n",
       "      <th>EUR</th>\n",
       "      <th>JPY</th>\n",
       "      <th>GBP</th>\n",
       "      <th>CHF</th>\n",
       "      <th>CAD</th>\n",
       "      <th>AUD</th>\n",
       "      <th>HKD</th>\n",
       "    </tr>\n",
       "  </thead>\n",
       "  <tbody>\n",
       "    <tr>\n",
       "      <th>Money Totals</th>\n",
       "      <td>454.277</td>\n",
       "      <td>379.96</td>\n",
       "      <td>50593.59</td>\n",
       "      <td>336.338</td>\n",
       "      <td>444.326</td>\n",
       "      <td>570.034</td>\n",
       "      <td>579.667</td>\n",
       "      <td>3553.307</td>\n",
       "    </tr>\n",
       "  </tbody>\n",
       "</table>\n",
       "</div>"
      ],
      "text/plain": [
       "                  USD     EUR       JPY      GBP      CHF      CAD      AUD  \\\n",
       "Money Totals  454.277  379.96  50593.59  336.338  444.326  570.034  579.667   \n",
       "\n",
       "                   HKD  \n",
       "Money Totals  3553.307  "
      ]
     },
     "execution_count": 5,
     "metadata": {},
     "output_type": "execute_result"
    }
   ],
   "source": [
    "# TODO 1.: Calculates the money totals(outputs) vector using matrix multiplication in numpy.\n",
    "money_totals = np.matmul(money,conversion_rates)\n",
    "\n",
    "\n",
    "# Converts the resulting money totals vector into a dataframe for printing.\n",
    "money_totals_df = pd.DataFrame(data = money_totals, index = currency_label, columns = [\"Money Totals\"])\n",
    "print(\"Outputs Vector:\")\n",
    "money_totals_df.T\n"
   ]
  },
  {
   "cell_type": "markdown",
   "metadata": {},
   "source": [
    "<div>\n",
    "<style>\n",
    "    .dataframe thead tr:only-child th {\n",
    "        text-align: right;\n",
    "    }"
   ]
  },
  {
   "cell_type": "markdown",
   "metadata": {},
   "source": [
    "### 通过矩阵乘法进行货币换算的解决方案 \n",
    "上面的输出应该与下面的 **Money Totals** 相符。结果可以解析为：将所有货币换算为美元 (**USD**) 等于 **454.28** 美元，将所有货币换算为欧元 (**EUR**) 等于 **379.96** 欧元，等等。\n",
    "\n",
    "<img src=\"money_totals.png\" height=225 width=563>\n",
    "\n",
    "### 通过矩阵乘法进行货币换算的解决方案视频   \n",
    "你可以在**线性映射 Lab 解决方案**部分找到解决方案视频。你可能需要重新打开一个浏览器窗口，以便轻松地在向量 Lab Jupyter Notebook 和此 Lab 的解决方案视频之间轻松切换。"
   ]
  }
 ],
 "metadata": {
  "kernelspec": {
   "display_name": "Python 3",
   "language": "python",
   "name": "python3"
  },
  "language_info": {
   "codemirror_mode": {
    "name": "ipython",
    "version": 3
   },
   "file_extension": ".py",
   "mimetype": "text/x-python",
   "name": "python",
   "nbconvert_exporter": "python",
   "pygments_lexer": "ipython3",
   "version": "3.6.5"
  }
 },
 "nbformat": 4,
 "nbformat_minor": 2
}
